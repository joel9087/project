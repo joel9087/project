{
 "cells": [
  {
   "cell_type": "code",
   "execution_count": 4,
   "id": "aed3f17d",
   "metadata": {},
   "outputs": [
    {
     "name": "stdout",
     "output_type": "stream",
     "text": [
      "10\n",
      "hellooooo\n"
     ]
    }
   ],
   "source": [
    "'''this is python file'''\n",
    "msg=\"module_programming\"\n",
    "def sum_list(l):\n",
    "    sum=0\n",
    "    for i in l:\n",
    "        sum=sum+i\n",
    "    print(sum)\n",
    "def printing():\n",
    "    print(\"hellooooo\")\n",
    "if __name__=='__main__':    \n",
    "    sum_list([1,2,3,4])\n",
    "    printing()"
   ]
  },
  {
   "cell_type": "code",
   "execution_count": null,
   "id": "305742ed",
   "metadata": {},
   "outputs": [],
   "source": []
  }
 ],
 "metadata": {
  "kernelspec": {
   "display_name": "Python 3 (ipykernel)",
   "language": "python",
   "name": "python3"
  },
  "language_info": {
   "codemirror_mode": {
    "name": "ipython",
    "version": 3
   },
   "file_extension": ".py",
   "mimetype": "text/x-python",
   "name": "python",
   "nbconvert_exporter": "python",
   "pygments_lexer": "ipython3",
   "version": "3.10.9"
  }
 },
 "nbformat": 4,
 "nbformat_minor": 5
}
